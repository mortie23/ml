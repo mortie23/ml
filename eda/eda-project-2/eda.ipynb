{
 "cells": [
  {
   "cell_type": "code",
   "execution_count": 4,
   "id": "eb8acdc4",
   "metadata": {},
   "outputs": [],
   "source": [
    "from eda_project_2.hello import hello"
   ]
  },
  {
   "cell_type": "code",
   "execution_count": 5,
   "id": "dad19ac8",
   "metadata": {},
   "outputs": [
    {
     "data": {
      "text/plain": [
       "'hello Chris'"
      ]
     },
     "execution_count": 5,
     "metadata": {},
     "output_type": "execute_result"
    }
   ],
   "source": [
    "hello('Chris')"
   ]
  },
  {
   "cell_type": "code",
   "execution_count": null,
   "id": "ecb5e213",
   "metadata": {},
   "outputs": [],
   "source": []
  }
 ],
 "metadata": {
  "kernelspec": {
   "display_name": "win-p312",
   "language": "python",
   "name": "win-p312"
  },
  "language_info": {
   "codemirror_mode": {
    "name": "ipython",
    "version": 3
   },
   "file_extension": ".py",
   "mimetype": "text/x-python",
   "name": "python",
   "nbconvert_exporter": "python",
   "pygments_lexer": "ipython3",
   "version": "3.12.10"
  }
 },
 "nbformat": 4,
 "nbformat_minor": 5
}
